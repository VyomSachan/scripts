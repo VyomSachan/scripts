{
  "nbformat": 4,
  "nbformat_minor": 0,
  "metadata": {
    "colab": {
      "name": "generic2d.ipynb",
      "provenance": [],
      "collapsed_sections": [],
      "authorship_tag": "ABX9TyNqxB6AtgozHzo+/agNpu5F",
      "include_colab_link": true
    },
    "kernelspec": {
      "name": "python3",
      "display_name": "Python 3"
    }
  },
  "cells": [
    {
      "cell_type": "markdown",
      "metadata": {
        "id": "view-in-github",
        "colab_type": "text"
      },
      "source": [
        "<a href=\"https://colab.research.google.com/github/witkov/scripts/blob/master/energy_harvesting_aeroelasticity.ipynb\" target=\"_parent\"><img src=\"https://colab.research.google.com/assets/colab-badge.svg\" alt=\"Open In Colab\"/></a>"
      ]
    },
    {
      "cell_type": "code",
      "metadata": {
        "id": "E87P1VrsOnke",
        "colab": {
          "base_uri": "https://localhost:8080/",
          "height": 653
        },
        "outputId": "8c3b88f0-c436-4381-8b7c-abd7f37389e0"
      },
      "source": [
        "# 2dchi2.py version 5/12/20\n",
        "# This script does chi-square curve fitting to the 2-parameter linear model y = Ax + B\n",
        "#\n",
        "# Three arrays are needed:\n",
        "    # x is an array of mean values for the independent variable\n",
        "    # y is an array of mean values for the dependent variable\n",
        "    # y_err is an array of standard errors (SD/(sqrt of N)) for y\n",
        "#\n",
        "# This script assumes errors on the dependent (y) variable only.\n",
        "#\n",
        "# SOFTWARE DEPENDENCIES: Numpy, Matplotlib\n",
        "# ---------------------------------------------------------------------------\n",
        "# Copyright (C) 2020 Carey Witkov and Keith Zengel\n",
        "\n",
        "# This program is free software: you can redistribute it and/or modify it under \n",
        "# the terms of the GNU General Public License as published by the Free Software \n",
        "# Foundation; either version 3 of the License, or (at your option) any later version.\n",
        "\n",
        "# This program is distributed in the hope that it will be useful, but WITHOUT ANY WARRANTY; \n",
        "# without even the implied warranty of MERCHANTABILITY or FITNESS FOR A PARTICULAR PURPOSE. \n",
        "# See the GNU General Public License for more details.\n",
        "\n",
        "# You should have received a copy of the GNU General Public License along with this program. \n",
        "# If not, see https://www.gnu.org/licenses/.\n",
        "# ---------------------------------------------------------------------------\n",
        "import matplotlib.pyplot as plt\n",
        "from numpy import *\n",
        "import numpy as np\n",
        "\n",
        "# \n",
        "ind_var = np.array([1.3, 1.7, 2.0])\n",
        "\n",
        "# \n",
        "dep_var1 = np.array([233.7, 221.8, 214.5])\n",
        "dep_var2 = np.array([286.6, 285.7, 278.3])\n",
        "dep_var3 = np.array([345.6, 325.6, 324])\n",
        "n=len(dep_var1)\n",
        "\n",
        "dep_var = np.array([mean(dep_var1), mean(dep_var2), mean(dep_var3)])\n",
        "sigma_dv=np.array([np.std(dep_var1, ddof=1), np.std(dep_var2, ddof=1), np.std(dep_var3, ddof=1)]/np.sqrt(n));\n",
        "N = len(dep_var)\n",
        "\n",
        "# x,y data arrays and y-error array\n",
        "x = log(ind_var);\n",
        "y = log(dep_var)\n",
        "yerr = sigma_dv/dep_var;\n",
        "\n",
        "# calculate sums needed to obtain chi-square\n",
        "Syy=sum(y**2/yerr**2)\n",
        "Sxx=sum(x**2/yerr**2)\n",
        "S0=sum(1/yerr**2)\n",
        "Sxy=sum((y*x)/yerr**2)\n",
        "Sy=sum(y/yerr**2)\n",
        "Sx=sum(x/yerr**2)\n",
        "\n",
        "Abest = (S0*Sxy - Sx*Sy)/(S0*Sxx - (Sx*Sx))\n",
        "Bbest = (Sy*Sxx - Sx*Sxy)/(S0*Sxx - (Sx*Sx))\n",
        "minchi2 = Syy+(S0*(Sxy*Sxy) - 2*Sx*Sy*Sxy + Sxx*(Sy*Sy))/((Sx*Sx) - (S0*Sxx))\n",
        "sigmaA = 1/sqrt(Sxx)\n",
        "sigmaB = 1/sqrt(S0)\n",
        "\n",
        "# create parameter grid\n",
        "a_factor = .1\n",
        "b_factor = 3\n",
        "a = np.linspace(Abest-a_factor*Abest,Abest+a_factor*Abest,1000)\n",
        "b = np.linspace(Bbest-b_factor*Bbest,Bbest+b_factor*Bbest,1000)\n",
        "A,B = np.meshgrid(a,b)\n",
        "\n",
        "# calculate chi-square over parameter grid\n",
        "chi2=(Syy) + (A**2)*(Sxx) + (B**2)*(S0) - 2*A*Sxy - 2*B*Sy + 2*A*B*Sx\n",
        "     \n",
        "# plot data with errorbars \n",
        "plt.figure()\n",
        "plt.errorbar(x,y,yerr,linestyle='None',fmt='.k')\n",
        "plt.xlabel('x',fontsize=16)\n",
        "plt.ylabel('y',fontsize=16)\n",
        "plt.grid(True)\n",
        "# plt.title('y vs x data and line-of-best-fit', fontsize=16)\n",
        "plt.plot(x,Abest*x+Bbest)\n",
        "\n",
        "# plot chi-square in A-b parameter plane with 68% and 95% contours\n",
        "plt.figure()\n",
        "levels=[minchi2,minchi2+2.3,minchi2+6]\n",
        "Z=plt.contour(B,A,chi2,levels)\n",
        "plt.ylim(Abest-a_factor*Abest,Abest+a_factor*Abest)\n",
        "plt.xlim(Bbest-b_factor*Bbest,Bbest+b_factor*Bbest)\n",
        "plt.plot(Bbest,Abest,'+')\n",
        "plt.ylabel('A (slope)',fontsize=16)\n",
        "plt.xlabel('B (intercept)',fontsize=16)\n",
        "\n",
        "# add legend\n",
        "artists, labels = Z.legend_elements()\n",
        "plt.legend(handles=artists, labels=[\"+ minchi2\",\"68% Contour\",\"95% Contour\"], loc='upper left')\n",
        "plt.show()\n",
        "\n",
        "# display main results\n",
        "print(\"CHI-SQUARED ANALYSIS RESULTS\")\n",
        "Abest_float = \"{:.2f}\".format(Abest)\n",
        "print(\"A_best =\",Abest_float)\n",
        "Bbest_float = \"{:.2f}\".format(Bbest)\n",
        "print(\"B_best =\",Bbest_float)\n",
        "minchi2_float = \"{:.2f}\".format(minchi2)\n",
        "print(\"minchi2 =\",minchi2_float)\n",
        "print(\"N =\", N)\n",
        "N_min_float = \"{:.2f}\".format(N-sqrt(2*N))\n",
        "N_max_float = \"{:.2f}\".format(N+sqrt(2*N))\n",
        "print(\"minchi2 good fit range = [\",N_min_float, \",\",N_max_float,\"]\")\n",
        "# contour68 = \"{:.2f}\".format(levels[1])\n",
        "# print(\"chi2 for 68% Contour =\", contour68)\n",
        "# contour95 = \"{:.2f}\".format(levels[2])\n",
        "# print(\"chi2 for 95% Contour =\", contour95)\n",
        "\n"
      ],
      "execution_count": 5,
      "outputs": [
        {
          "output_type": "display_data",
          "data": {
            "image/png": "[encoded data removed]",
            "text/plain": [
              "<Figure size 432x288 with 1 Axes>"
            ]
          },
          "metadata": {
            "needs_background": "light"
          }
        },
        {
          "output_type": "display_data",
          "data": {
            "image/png": "[encoded data removed]",
            "text/plain": [
              "<Figure size 432x288 with 1 Axes>"
            ]
          },
          "metadata": {
            "needs_background": "light"
          }
        },
        {
          "output_type": "stream",
          "text": [
            "CHI-SQUARED ANALYSIS RESULTS\n",
            "A_best = 0.92\n",
            "B_best = 5.16\n",
            "minchi2 = 0.17\n",
            "N = 3\n",
            "minchi2 good fit range = [ 0.55 , 5.45 ]\n"
          ],
          "name": "stdout"
        }
      ]
    }
  ]
}