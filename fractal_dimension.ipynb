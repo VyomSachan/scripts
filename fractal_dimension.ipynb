{
  "nbformat": 4,
  "nbformat_minor": 0,
  "metadata": {
    "colab": {
      "name": "fractal_dimension",
      "provenance": [],
      "authorship_tag": "ABX9TyOZa7VQuWPRaBUHABUG5fue",
      "include_colab_link": true
    },
    "kernelspec": {
      "name": "python3",
      "display_name": "Python 3"
    }
  },
  "cells": [
    {
      "cell_type": "markdown",
      "metadata": {
        "id": "view-in-github",
        "colab_type": "text"
      },
      "source": [
        "<a href=\"https://colab.research.google.com/github/witkov/scripts/blob/master/fractal_dimension.ipynb\" target=\"_parent\"><img src=\"https://colab.research.google.com/assets/colab-badge.svg\" alt=\"Open In Colab\"/></a>"
      ]
    },
    {
      "cell_type": "code",
      "metadata": {
        "id": "sQgoZ_lKgmas",
        "outputId": "da009e4e-bfe5-4524-bac4-f8d4de11bad8",
        "colab": {
          "base_uri": "https://localhost:8080/",
          "height": 51
        }
      },
      "source": [
        "# -----------------------------------------------------------------------------\n",
        "# Author: Erik Rydow\n",
        "# Email: erik.rydow@kcl.ac.uk\n",
        "# Extended from code by Nicolas P. Rougier https://gist.github.com/rougier/e5eafc276a4e54f516ed5559df4242c0\n",
        "# https://github.com/ErikRZH/Fractal-Dimension\n",
        "# From https://en.wikipedia.org/wiki/Minkowski–Bouligand_dimension:\n",
        "#\n",
        "# In fractal geometry, the Minkowski–Bouligand dimension, also known as\n",
        "# Minkowski dimension or box-counting dimension, is a way of determining the\n",
        "# fractal dimension of a set S in a Euclidean space Rn, or more generally in a\n",
        "# metric space (X, d).\n",
        "# -----------------------------------------------------------------------------\n",
        "import imageio\n",
        "import numpy as np\n",
        "\n",
        "\n",
        "def fractal_dimension(Z, threshold=0.8):\n",
        "    \"\"\"Returns box-counting dimension of a 2D array.\n",
        "    Args:\n",
        "        Z: 2D array to be analysed.\n",
        "        threshold: Cutoff for converting values in Z to 1 and 0.\n",
        "    Returns:\n",
        "        The estimated box counting dimension.\n",
        "    \"\"\"\n",
        "\n",
        "    # Only for 2d image\n",
        "    assert(len(Z.shape) == 2)\n",
        "\n",
        "    # From https://github.com/rougier/numpy-100 (#87)\n",
        "    def boxcount(Z, k):\n",
        "        S = np.add.reduceat(\n",
        "            np.add.reduceat(Z, np.arange(0, Z.shape[0], k), axis=0),\n",
        "                               np.arange(0, Z.shape[1], k), axis=1)\n",
        "\n",
        "        # We count non-empty (0) and non-full boxes (k*k)\n",
        "        return len(np.where((S > 0) & (S < k*k))[0])\n",
        "\n",
        "\n",
        "    # Transform Z into a binary array\n",
        "    Z = (Z < threshold)\n",
        "\n",
        "    # Minimal dimension of image\n",
        "    p = min(Z.shape)\n",
        "\n",
        "    # Greatest power of 2 less than or equal to p\n",
        "    n = 2**np.floor(np.log(p)/np.log(2))\n",
        "\n",
        "    # Extract the exponent\n",
        "    n = int(np.log(n)/np.log(2))\n",
        "\n",
        "    # Build successive box sizes (from 2**n down to 2**1)\n",
        "    sizes = 2**np.arange(n, 1, -1)\n",
        "\n",
        "    # Actual box counting with decreasing size\n",
        "    counts = []\n",
        "    for size in sizes:\n",
        "        counts.append(boxcount(Z, size))\n",
        "\n",
        "    # Fit the successive log(sizes) with log (counts)\n",
        "    coeffs = np.polyfit(np.log(sizes), np.log(counts), 1)\n",
        "    return -coeffs[0]\n",
        "\n",
        "I = imageio.imread(\"sierpinski.png\", as_gray=\"True\")/255.0    # Import the image in greyscale\n",
        "print(\"Minkowski–Bouligand dimension (computed): \", fractal_dimension(I))\n",
        "print(\"Haussdorf dimension (theoretical):        \", (np.log(3)/np.log(2)))\n",
        "\n"
      ],
      "execution_count": null,
      "outputs": [
        {
          "output_type": "stream",
          "text": [
            "Minkowski–Bouligand dimension (computed):  1.5855963935652118\n",
            "Haussdorf dimension (theoretical):         1.5849625007211563\n"
          ],
          "name": "stdout"
        }
      ]
    }
  ]
}